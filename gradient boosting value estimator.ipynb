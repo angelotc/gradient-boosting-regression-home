{
 "cells": [
  {
   "cell_type": "markdown",
   "metadata": {
    "collapsed": true
   },
   "source": [
    "<h1> gradient boosting value estimator </h1>\n",
    "\n",
    "     \n",
    "<b>Some things to note:</b>\n",
    "\n",
    "1.This notebook highlights multiple processes that are prevalent in data science: cleaning data, data exploration, pipeline usage and visual modeling. It also highlights the difference in computing accuracy between a trained gradient boosting regression model versus linear statistical models.  \n",
    "\n",
    "2.There are flaws to this model: the listings.csv dataset is comprised of <b>listings</b> data (supply side) not <b>transaction</b> data (buy side). This notebook only expands on the supply side discourse of AirBnB listings. However, it can be replicated with transactional data to gauge for consumer preferences. \n",
    "<h3>Angelo Cortez</h3>"
   ]
  },
  {
   "cell_type": "code",
   "execution_count": 92,
   "metadata": {},
   "outputs": [],
   "source": [
    "import numpy as np\n",
    "import pandas as pd\n",
    "\n",
    "tyo=pd.read_csv('listings.csv')"
   ]
  },
  {
   "cell_type": "code",
   "execution_count": 93,
   "metadata": {},
   "outputs": [
    {
     "data": {
      "text/html": [
       "<div>\n",
       "<style>\n",
       "    .dataframe thead tr:only-child th {\n",
       "        text-align: right;\n",
       "    }\n",
       "\n",
       "    .dataframe thead th {\n",
       "        text-align: left;\n",
       "    }\n",
       "\n",
       "    .dataframe tbody tr th {\n",
       "        vertical-align: top;\n",
       "    }\n",
       "</style>\n",
       "<table border=\"1\" class=\"dataframe\">\n",
       "  <thead>\n",
       "    <tr style=\"text-align: right;\">\n",
       "      <th></th>\n",
       "      <th>accuracy</th>\n",
       "      <th>amenities</th>\n",
       "      <th>bed_type</th>\n",
       "      <th>cancel_policy</th>\n",
       "      <th>instant_book</th>\n",
       "      <th>person_capacity</th>\n",
       "      <th>price</th>\n",
       "      <th>rating_checkin</th>\n",
       "      <th>rating_cleanliness</th>\n",
       "      <th>rating_communication</th>\n",
       "      <th>response_rate</th>\n",
       "      <th>response_time</th>\n",
       "      <th>rev_count</th>\n",
       "      <th>room_type</th>\n",
       "      <th>satisfaction_guest</th>\n",
       "      <th>url</th>\n",
       "    </tr>\n",
       "  </thead>\n",
       "  <tbody>\n",
       "    <tr>\n",
       "      <th>0</th>\n",
       "      <td>\\t\\t\\t\\t\\t\\t\\t\\t\\t\\t\\t\\t\\t\\t\\t</td>\n",
       "      <td>NaN</td>\n",
       "      <td>NaN</td>\n",
       "      <td>NaN</td>\n",
       "      <td>NaN</td>\n",
       "      <td>NaN</td>\n",
       "      <td>NaN</td>\n",
       "      <td>NaN</td>\n",
       "      <td>NaN</td>\n",
       "      <td>NaN</td>\n",
       "      <td>NaN</td>\n",
       "      <td>NaN</td>\n",
       "      <td>NaN</td>\n",
       "      <td>NaN</td>\n",
       "      <td>NaN</td>\n",
       "      <td>NaN</td>\n",
       "    </tr>\n",
       "    <tr>\n",
       "      <th>1</th>\n",
       "      <td>9</td>\n",
       "      <td>[1, 33, 35, 4, 36, 5, 8, 40, 41, 42, 44, 45, 4...</td>\n",
       "      <td>Real Bed</td>\n",
       "      <td>4.0</td>\n",
       "      <td>True</td>\n",
       "      <td>16.0</td>\n",
       "      <td>137.0</td>\n",
       "      <td>9.0</td>\n",
       "      <td>8.0</td>\n",
       "      <td>10.0</td>\n",
       "      <td>1.0</td>\n",
       "      <td>1.0</td>\n",
       "      <td>25.0</td>\n",
       "      <td>Entire home/apt</td>\n",
       "      <td>87.0</td>\n",
       "      <td>https://www.airbnb.com/rooms/16978443?location...</td>\n",
       "    </tr>\n",
       "    <tr>\n",
       "      <th>2</th>\n",
       "      <td>NaN</td>\n",
       "      <td>NaN</td>\n",
       "      <td>NaN</td>\n",
       "      <td>NaN</td>\n",
       "      <td>NaN</td>\n",
       "      <td>NaN</td>\n",
       "      <td>NaN</td>\n",
       "      <td>NaN</td>\n",
       "      <td>NaN</td>\n",
       "      <td>NaN</td>\n",
       "      <td>NaN</td>\n",
       "      <td>NaN</td>\n",
       "      <td>NaN</td>\n",
       "      <td>NaN</td>\n",
       "      <td>NaN</td>\n",
       "      <td>NaN</td>\n",
       "    </tr>\n",
       "    <tr>\n",
       "      <th>3</th>\n",
       "      <td>9</td>\n",
       "      <td>[1, 33, 2, 34, 3, 35, 4, 36, 5, 39, 8, 40, 41,...</td>\n",
       "      <td>Real Bed</td>\n",
       "      <td>5.0</td>\n",
       "      <td>True</td>\n",
       "      <td>5.0</td>\n",
       "      <td>114.0</td>\n",
       "      <td>10.0</td>\n",
       "      <td>9.0</td>\n",
       "      <td>10.0</td>\n",
       "      <td>1.0</td>\n",
       "      <td>1.0</td>\n",
       "      <td>19.0</td>\n",
       "      <td>Entire home/apt</td>\n",
       "      <td>96.0</td>\n",
       "      <td>https://www.airbnb.com/rooms/12642103?location...</td>\n",
       "    </tr>\n",
       "    <tr>\n",
       "      <th>4</th>\n",
       "      <td>NaN</td>\n",
       "      <td>NaN</td>\n",
       "      <td>NaN</td>\n",
       "      <td>NaN</td>\n",
       "      <td>NaN</td>\n",
       "      <td>NaN</td>\n",
       "      <td>NaN</td>\n",
       "      <td>NaN</td>\n",
       "      <td>NaN</td>\n",
       "      <td>NaN</td>\n",
       "      <td>NaN</td>\n",
       "      <td>NaN</td>\n",
       "      <td>NaN</td>\n",
       "      <td>NaN</td>\n",
       "      <td>NaN</td>\n",
       "      <td>NaN</td>\n",
       "    </tr>\n",
       "  </tbody>\n",
       "</table>\n",
       "</div>"
      ],
      "text/plain": [
       "                         accuracy  \\\n",
       "0  \\t\\t\\t\\t\\t\\t\\t\\t\\t\\t\\t\\t\\t\\t\\t   \n",
       "1                               9   \n",
       "2                             NaN   \n",
       "3                               9   \n",
       "4                             NaN   \n",
       "\n",
       "                                           amenities  bed_type  cancel_policy  \\\n",
       "0                                                NaN       NaN            NaN   \n",
       "1  [1, 33, 35, 4, 36, 5, 8, 40, 41, 42, 44, 45, 4...  Real Bed            4.0   \n",
       "2                                                NaN       NaN            NaN   \n",
       "3  [1, 33, 2, 34, 3, 35, 4, 36, 5, 39, 8, 40, 41,...  Real Bed            5.0   \n",
       "4                                                NaN       NaN            NaN   \n",
       "\n",
       "  instant_book  person_capacity  price  rating_checkin  rating_cleanliness  \\\n",
       "0          NaN              NaN    NaN             NaN                 NaN   \n",
       "1         True             16.0  137.0             9.0                 8.0   \n",
       "2          NaN              NaN    NaN             NaN                 NaN   \n",
       "3         True              5.0  114.0            10.0                 9.0   \n",
       "4          NaN              NaN    NaN             NaN                 NaN   \n",
       "\n",
       "   rating_communication  response_rate  response_time  rev_count  \\\n",
       "0                   NaN            NaN            NaN        NaN   \n",
       "1                  10.0            1.0            1.0       25.0   \n",
       "2                   NaN            NaN            NaN        NaN   \n",
       "3                  10.0            1.0            1.0       19.0   \n",
       "4                   NaN            NaN            NaN        NaN   \n",
       "\n",
       "         room_type  satisfaction_guest  \\\n",
       "0              NaN                 NaN   \n",
       "1  Entire home/apt                87.0   \n",
       "2              NaN                 NaN   \n",
       "3  Entire home/apt                96.0   \n",
       "4              NaN                 NaN   \n",
       "\n",
       "                                                 url  \n",
       "0                                                NaN  \n",
       "1  https://www.airbnb.com/rooms/16978443?location...  \n",
       "2                                                NaN  \n",
       "3  https://www.airbnb.com/rooms/12642103?location...  \n",
       "4                                                NaN  "
      ]
     },
     "execution_count": 93,
     "metadata": {},
     "output_type": "execute_result"
    }
   ],
   "source": [
    "# Let's take a look at our data\n",
    "tyo.head()"
   ]
  },
  {
   "cell_type": "code",
   "execution_count": 94,
   "metadata": {},
   "outputs": [
    {
     "data": {
      "text/html": [
       "<div>\n",
       "<style>\n",
       "    .dataframe thead tr:only-child th {\n",
       "        text-align: right;\n",
       "    }\n",
       "\n",
       "    .dataframe thead th {\n",
       "        text-align: left;\n",
       "    }\n",
       "\n",
       "    .dataframe tbody tr th {\n",
       "        vertical-align: top;\n",
       "    }\n",
       "</style>\n",
       "<table border=\"1\" class=\"dataframe\">\n",
       "  <thead>\n",
       "    <tr style=\"text-align: right;\">\n",
       "      <th></th>\n",
       "      <th>accuracy</th>\n",
       "      <th>amenities</th>\n",
       "      <th>bed_type</th>\n",
       "      <th>cancel_policy</th>\n",
       "      <th>instant_book</th>\n",
       "      <th>person_capacity</th>\n",
       "      <th>price</th>\n",
       "      <th>rating_checkin</th>\n",
       "      <th>rating_cleanliness</th>\n",
       "      <th>rating_communication</th>\n",
       "      <th>response_rate</th>\n",
       "      <th>response_time</th>\n",
       "      <th>rev_count</th>\n",
       "      <th>room_type</th>\n",
       "      <th>satisfaction_guest</th>\n",
       "      <th>url</th>\n",
       "    </tr>\n",
       "  </thead>\n",
       "  <tbody>\n",
       "    <tr>\n",
       "      <th>1</th>\n",
       "      <td>9</td>\n",
       "      <td>[1, 33, 35, 4, 36, 5, 8, 40, 41, 42, 44, 45, 4...</td>\n",
       "      <td>Real Bed</td>\n",
       "      <td>4.0</td>\n",
       "      <td>True</td>\n",
       "      <td>16.0</td>\n",
       "      <td>137.0</td>\n",
       "      <td>9.0</td>\n",
       "      <td>8.0</td>\n",
       "      <td>10.0</td>\n",
       "      <td>1.0</td>\n",
       "      <td>1.0</td>\n",
       "      <td>25.0</td>\n",
       "      <td>Entire home/apt</td>\n",
       "      <td>87.0</td>\n",
       "      <td>https://www.airbnb.com/rooms/16978443?location...</td>\n",
       "    </tr>\n",
       "    <tr>\n",
       "      <th>3</th>\n",
       "      <td>9</td>\n",
       "      <td>[1, 33, 2, 34, 3, 35, 4, 36, 5, 39, 8, 40, 41,...</td>\n",
       "      <td>Real Bed</td>\n",
       "      <td>5.0</td>\n",
       "      <td>True</td>\n",
       "      <td>5.0</td>\n",
       "      <td>114.0</td>\n",
       "      <td>10.0</td>\n",
       "      <td>9.0</td>\n",
       "      <td>10.0</td>\n",
       "      <td>1.0</td>\n",
       "      <td>1.0</td>\n",
       "      <td>19.0</td>\n",
       "      <td>Entire home/apt</td>\n",
       "      <td>96.0</td>\n",
       "      <td>https://www.airbnb.com/rooms/12642103?location...</td>\n",
       "    </tr>\n",
       "    <tr>\n",
       "      <th>5</th>\n",
       "      <td>9</td>\n",
       "      <td>[1, 33, 35, 4, 36, 5, 39, 8, 40, 41, 42, 43, 4...</td>\n",
       "      <td>Real Bed</td>\n",
       "      <td>5.0</td>\n",
       "      <td>True</td>\n",
       "      <td>8.0</td>\n",
       "      <td>100.0</td>\n",
       "      <td>10.0</td>\n",
       "      <td>10.0</td>\n",
       "      <td>10.0</td>\n",
       "      <td>1.0</td>\n",
       "      <td>98.0</td>\n",
       "      <td>23.0</td>\n",
       "      <td>Entire home/apt</td>\n",
       "      <td>97.0</td>\n",
       "      <td>https://www.airbnb.com/rooms/14623853?location...</td>\n",
       "    </tr>\n",
       "    <tr>\n",
       "      <th>7</th>\n",
       "      <td>10</td>\n",
       "      <td>[1, 33, 3, 35, 4, 36, 5, 37, 38, 8, 40, 41, 43...</td>\n",
       "      <td>Real Bed</td>\n",
       "      <td>4.0</td>\n",
       "      <td>True</td>\n",
       "      <td>6.0</td>\n",
       "      <td>91.0</td>\n",
       "      <td>10.0</td>\n",
       "      <td>10.0</td>\n",
       "      <td>10.0</td>\n",
       "      <td>1.0</td>\n",
       "      <td>1.0</td>\n",
       "      <td>123.0</td>\n",
       "      <td>Entire home/apt</td>\n",
       "      <td>98.0</td>\n",
       "      <td>https://www.airbnb.com/rooms/6338297?location=...</td>\n",
       "    </tr>\n",
       "    <tr>\n",
       "      <th>9</th>\n",
       "      <td>10</td>\n",
       "      <td>[33, 35, 4, 36, 5, 39, 8, 40, 41, 42, 44, 45, ...</td>\n",
       "      <td>Real Bed</td>\n",
       "      <td>4.0</td>\n",
       "      <td>True</td>\n",
       "      <td>2.0</td>\n",
       "      <td>46.0</td>\n",
       "      <td>10.0</td>\n",
       "      <td>10.0</td>\n",
       "      <td>10.0</td>\n",
       "      <td>1.0</td>\n",
       "      <td>28.5</td>\n",
       "      <td>5.0</td>\n",
       "      <td>Entire home/apt</td>\n",
       "      <td>100.0</td>\n",
       "      <td>https://www.airbnb.com/rooms/18148222?location...</td>\n",
       "    </tr>\n",
       "  </tbody>\n",
       "</table>\n",
       "</div>"
      ],
      "text/plain": [
       "  accuracy                                          amenities  bed_type  \\\n",
       "1        9  [1, 33, 35, 4, 36, 5, 8, 40, 41, 42, 44, 45, 4...  Real Bed   \n",
       "3        9  [1, 33, 2, 34, 3, 35, 4, 36, 5, 39, 8, 40, 41,...  Real Bed   \n",
       "5        9  [1, 33, 35, 4, 36, 5, 39, 8, 40, 41, 42, 43, 4...  Real Bed   \n",
       "7       10  [1, 33, 3, 35, 4, 36, 5, 37, 38, 8, 40, 41, 43...  Real Bed   \n",
       "9       10  [33, 35, 4, 36, 5, 39, 8, 40, 41, 42, 44, 45, ...  Real Bed   \n",
       "\n",
       "   cancel_policy instant_book  person_capacity  price  rating_checkin  \\\n",
       "1            4.0         True             16.0  137.0             9.0   \n",
       "3            5.0         True              5.0  114.0            10.0   \n",
       "5            5.0         True              8.0  100.0            10.0   \n",
       "7            4.0         True              6.0   91.0            10.0   \n",
       "9            4.0         True              2.0   46.0            10.0   \n",
       "\n",
       "   rating_cleanliness  rating_communication  response_rate  response_time  \\\n",
       "1                 8.0                  10.0            1.0            1.0   \n",
       "3                 9.0                  10.0            1.0            1.0   \n",
       "5                10.0                  10.0            1.0           98.0   \n",
       "7                10.0                  10.0            1.0            1.0   \n",
       "9                10.0                  10.0            1.0           28.5   \n",
       "\n",
       "   rev_count        room_type  satisfaction_guest  \\\n",
       "1       25.0  Entire home/apt                87.0   \n",
       "3       19.0  Entire home/apt                96.0   \n",
       "5       23.0  Entire home/apt                97.0   \n",
       "7      123.0  Entire home/apt                98.0   \n",
       "9        5.0  Entire home/apt               100.0   \n",
       "\n",
       "                                                 url  \n",
       "1  https://www.airbnb.com/rooms/16978443?location...  \n",
       "3  https://www.airbnb.com/rooms/12642103?location...  \n",
       "5  https://www.airbnb.com/rooms/14623853?location...  \n",
       "7  https://www.airbnb.com/rooms/6338297?location=...  \n",
       "9  https://www.airbnb.com/rooms/18148222?location...  "
      ]
     },
     "execution_count": 94,
     "metadata": {},
     "output_type": "execute_result"
    }
   ],
   "source": [
    "# Scraped data might not always be in the right format. We can always use pandas functions to transform the data into a \n",
    "# table-like structure. \n",
    "#\n",
    "# We can use the .dropna method to remove the duplicate rows.\n",
    "tyo.dropna(axis=0, how='all', inplace=True)\n",
    "# we can use the .drop method to remove the first row from above. \n",
    "tyo.drop(0, axis=0, inplace=True)\n",
    "\n",
    "\n",
    "tyo.head()"
   ]
  },
  {
   "cell_type": "code",
   "execution_count": 95,
   "metadata": {},
   "outputs": [],
   "source": [
    "# We want to see if there are any duplicates in the dataframe. We can achieve this by comparing the unique listing ID's.\n",
    "# By using the lambda method below, we can extract the id in the URL, then by applying the .drop_duplciates() method,\n",
    "# we can find delete those with duplicate url's. \n",
    "tyo.url = tyo.url.apply(lambda x:str(x).split('?')[0])\n",
    "tyo = tyo.drop_duplicates(subset=['url'])"
   ]
  },
  {
   "cell_type": "code",
   "execution_count": 96,
   "metadata": {},
   "outputs": [],
   "source": [
    "\n",
    "# We want to reconstruct the Entire_home/apt feature and the book_instantly with dummy variables. \n",
    "# This will quantify our features - 1 indicating that the listing is for the entire flat, 0 indicating that it is a\n",
    "# shared living space. \n",
    "\n",
    "tyo['Entire_home/apt'] = tyo.room_type.map({'Entire home/apt':1, 'Private room': 0, 'Shared room': 0})\n",
    "tyo['book_instantly'] = tyo.instant_book.map({True:1, False: 0 })\n",
    "tyo.drop('instant_book', axis=1, inplace = True)\n",
    "\n",
    "# We don't need the url feature. \n",
    "tyo.drop('url', axis=1, inplace=True)\n",
    "\n",
    "# We can also take care of dummies using for loops!\n",
    "\n",
    "booleans=[]\n",
    "for i in tyo.bed_type:\n",
    "    if i == 'Real Bed':\n",
    "        booleans.append(1)\n",
    "    else:\n",
    "        booleans.append(0)\n",
    "tyo['bed_type'] = booleans\n",
    "\n",
    "\n",
    "# Dropping the cancel policy sice it is uninteresting. \n",
    "\n",
    "tyo.drop('cancel_policy',axis=1, inplace=True) \n",
    "\n",
    "\n",
    "tyo.drop('room_type', axis=1, inplace = True)\n",
    "X = tyo.drop(['price','amenities','response_time'], axis=1)\n",
    "y = tyo.price\n",
    "# Set X and Y variables here. \n"
   ]
  },
  {
   "cell_type": "code",
   "execution_count": 99,
   "metadata": {},
   "outputs": [
    {
     "data": {
      "text/plain": [
       "<matplotlib.axes._subplots.AxesSubplot at 0x14fe913a90>"
      ]
     },
     "execution_count": 99,
     "metadata": {},
     "output_type": "execute_result"
    },
    {
     "data": {
      "image/png": "[encoded data removed]",
      "text/plain": [
       "<matplotlib.figure.Figure at 0x14fe1b7400>"
      ]
     },
     "metadata": {},
     "output_type": "display_data"
    }
   ],
   "source": [
    "# Below we can see the Pearson's r correlation of the listings data. \n",
    "# Pearson's r measures the strength of the linear relationship between two variables.  \n",
    "import matplotlib.pyplot as plt \n",
    "import seaborn as sns\n",
    "%matplotlib inline\n",
    "corr_matrix = tyo.corr()\n",
    "sns.heatmap(corr_matrix, square=True)"
   ]
  },
  {
   "cell_type": "code",
   "execution_count": 100,
   "metadata": {},
   "outputs": [
    {
     "data": {
      "text/html": [
       "<div>\n",
       "<style>\n",
       "    .dataframe thead tr:only-child th {\n",
       "        text-align: right;\n",
       "    }\n",
       "\n",
       "    .dataframe thead th {\n",
       "        text-align: left;\n",
       "    }\n",
       "\n",
       "    .dataframe tbody tr th {\n",
       "        vertical-align: top;\n",
       "    }\n",
       "</style>\n",
       "<table border=\"1\" class=\"dataframe\">\n",
       "  <thead>\n",
       "    <tr style=\"text-align: right;\">\n",
       "      <th></th>\n",
       "      <th>accuracy</th>\n",
       "      <th>bed_type</th>\n",
       "      <th>person_capacity</th>\n",
       "      <th>rating_checkin</th>\n",
       "      <th>rating_cleanliness</th>\n",
       "      <th>rating_communication</th>\n",
       "      <th>response_rate</th>\n",
       "      <th>rev_count</th>\n",
       "      <th>satisfaction_guest</th>\n",
       "      <th>Entire_home/apt</th>\n",
       "      <th>book_instantly</th>\n",
       "    </tr>\n",
       "  </thead>\n",
       "  <tbody>\n",
       "    <tr>\n",
       "      <th>1</th>\n",
       "      <td>9</td>\n",
       "      <td>1</td>\n",
       "      <td>16.0</td>\n",
       "      <td>9.0</td>\n",
       "      <td>8.0</td>\n",
       "      <td>10.0</td>\n",
       "      <td>1.0</td>\n",
       "      <td>25.0</td>\n",
       "      <td>87.0</td>\n",
       "      <td>1</td>\n",
       "      <td>1</td>\n",
       "    </tr>\n",
       "    <tr>\n",
       "      <th>3</th>\n",
       "      <td>9</td>\n",
       "      <td>1</td>\n",
       "      <td>5.0</td>\n",
       "      <td>10.0</td>\n",
       "      <td>9.0</td>\n",
       "      <td>10.0</td>\n",
       "      <td>1.0</td>\n",
       "      <td>19.0</td>\n",
       "      <td>96.0</td>\n",
       "      <td>1</td>\n",
       "      <td>1</td>\n",
       "    </tr>\n",
       "    <tr>\n",
       "      <th>5</th>\n",
       "      <td>9</td>\n",
       "      <td>1</td>\n",
       "      <td>8.0</td>\n",
       "      <td>10.0</td>\n",
       "      <td>10.0</td>\n",
       "      <td>10.0</td>\n",
       "      <td>1.0</td>\n",
       "      <td>23.0</td>\n",
       "      <td>97.0</td>\n",
       "      <td>1</td>\n",
       "      <td>1</td>\n",
       "    </tr>\n",
       "    <tr>\n",
       "      <th>7</th>\n",
       "      <td>10</td>\n",
       "      <td>1</td>\n",
       "      <td>6.0</td>\n",
       "      <td>10.0</td>\n",
       "      <td>10.0</td>\n",
       "      <td>10.0</td>\n",
       "      <td>1.0</td>\n",
       "      <td>123.0</td>\n",
       "      <td>98.0</td>\n",
       "      <td>1</td>\n",
       "      <td>1</td>\n",
       "    </tr>\n",
       "    <tr>\n",
       "      <th>9</th>\n",
       "      <td>10</td>\n",
       "      <td>1</td>\n",
       "      <td>2.0</td>\n",
       "      <td>10.0</td>\n",
       "      <td>10.0</td>\n",
       "      <td>10.0</td>\n",
       "      <td>1.0</td>\n",
       "      <td>5.0</td>\n",
       "      <td>100.0</td>\n",
       "      <td>1</td>\n",
       "      <td>1</td>\n",
       "    </tr>\n",
       "  </tbody>\n",
       "</table>\n",
       "</div>"
      ],
      "text/plain": [
       "  accuracy  bed_type  person_capacity  rating_checkin  rating_cleanliness  \\\n",
       "1        9         1             16.0             9.0                 8.0   \n",
       "3        9         1              5.0            10.0                 9.0   \n",
       "5        9         1              8.0            10.0                10.0   \n",
       "7       10         1              6.0            10.0                10.0   \n",
       "9       10         1              2.0            10.0                10.0   \n",
       "\n",
       "   rating_communication  response_rate  rev_count  satisfaction_guest  \\\n",
       "1                  10.0            1.0       25.0                87.0   \n",
       "3                  10.0            1.0       19.0                96.0   \n",
       "5                  10.0            1.0       23.0                97.0   \n",
       "7                  10.0            1.0      123.0                98.0   \n",
       "9                  10.0            1.0        5.0               100.0   \n",
       "\n",
       "   Entire_home/apt  book_instantly  \n",
       "1                1               1  \n",
       "3                1               1  \n",
       "5                1               1  \n",
       "7                1               1  \n",
       "9                1               1  "
      ]
     },
     "execution_count": 100,
     "metadata": {},
     "output_type": "execute_result"
    }
   ],
   "source": [
    "X.head()"
   ]
  },
  {
   "cell_type": "code",
   "execution_count": 101,
   "metadata": {},
   "outputs": [
    {
     "data": {
      "image/png": "[encoded data removed]",
      "text/plain": [
       "<matplotlib.figure.Figure at 0x14fe804eb8>"
      ]
     },
     "metadata": {},
     "output_type": "display_data"
    }
   ],
   "source": [
    "# I'm interested in seeing how person capacity correlates to the listing price. Let's graph it.\n",
    "plt.yticks(rotation=0)\n",
    "plt.xticks(rotation=90)\n",
    "plt.scatter(tyo.person_capacity,tyo.price)\n",
    "plt.xlabel(\"Person Capacity\")\n",
    "plt.ylabel(\"Listing Price\")\n",
    "plt.title(\"Relationship between Person Capacity and Listing Price for listings\")\n",
    "plt.show()"
   ]
  },
  {
   "cell_type": "code",
   "execution_count": 102,
   "metadata": {},
   "outputs": [
    {
     "data": {
      "text/plain": [
       "satisfaction_guest      28\n",
       "rating_communication    28\n",
       "rating_cleanliness      28\n",
       "rating_checkin          28\n",
       "accuracy                28\n",
       "dtype: int64"
      ]
     },
     "execution_count": 102,
     "metadata": {},
     "output_type": "execute_result"
    }
   ],
   "source": [
    "# Show how many rows are \n",
    "X.isnull().sum().sort_values(ascending=False).head() "
   ]
  },
  {
   "cell_type": "code",
   "execution_count": 103,
   "metadata": {
    "collapsed": true
   },
   "outputs": [],
   "source": [
    "def show_best(grid_pipe):\n",
    "    print(f'Best params: {grid_pipe.best_params_} \\n\\nBest score (MAE): {-1*grid_pipe.best_score_}')"
   ]
  },
  {
   "cell_type": "code",
   "execution_count": 104,
   "metadata": {},
   "outputs": [],
   "source": [
    "from sklearn.cross_validation import train_test_split\n",
    "\n",
    "X_train, X_test, y_train, y_test = train_test_split(X, y, test_size=0.2, random_state=20)"
   ]
  },
  {
   "cell_type": "code",
   "execution_count": 105,
   "metadata": {},
   "outputs": [],
   "source": [
    "from sklearn.grid_search import GridSearchCV\n",
    "from sklearn.preprocessing import Imputer\n",
    "from sklearn.pipeline import Pipeline\n",
    "from sklearn.ensemble import GradientBoostingRegressor"
   ]
  },
  {
   "cell_type": "code",
   "execution_count": 106,
   "metadata": {
    "scrolled": true
   },
   "outputs": [
    {
     "data": {
      "text/plain": [
       "GridSearchCV(cv=5, error_score='raise',\n",
       "       estimator=Pipeline(steps=[('imp', Imputer(axis=0, copy=True, missing_values='NaN', strategy='mean', verbose=0)), ('rgr', GradientBoostingRegressor(alpha=0.9, criterion='friedman_mse', init=None,\n",
       "             learning_rate=0.1, loss='ls', max_depth=3, max_features=None,\n",
       "             max_leaf_nodes=None, min_impurity_sp...       presort='auto', random_state=None, subsample=1.0, verbose=0,\n",
       "             warm_start=False))]),\n",
       "       fit_params={}, iid=True, n_jobs=1,\n",
       "       param_grid={'rgr__n_estimators': [80, 90, 100, 110, 120, 130, 140, 150, 160, 170, 180, 190], 'rgr__max_depth': [3], 'rgr__learning_rate': [0.1, 0.05, 0.15], 'rgr__min_samples_split': [6], 'rgr__loss': ['ls', 'lad'], 'rgr__max_features': [1.0, 0.8, 0.5, 0.3, 0.1]},\n",
       "       pre_dispatch='2*n_jobs', refit=True,\n",
       "       scoring='neg_median_absolute_error', verbose=0)"
      ]
     },
     "execution_count": 106,
     "metadata": {},
     "output_type": "execute_result"
    }
   ],
   "source": [
    "\n",
    "pipeline3 = Pipeline([\n",
    "    ('imp', Imputer(missing_values='NaN', strategy = 'mean', axis=0)),\n",
    "    ('rgr', GradientBoostingRegressor())\n",
    "])\n",
    "\n",
    "tuned_parameters = {\n",
    "    \"rgr__n_estimators\":      [ n for n in range(80,200,10)],\n",
    "    \"rgr__max_depth\" :        [ 3  ],\n",
    "    \"rgr__learning_rate\":     [   0.1, .05, .15],\n",
    "    \"rgr__min_samples_split\" :[  6    ],\n",
    "    \"rgr__loss\" :             [ 'ls', 'lad' ],\n",
    "    \"rgr__max_features\":      [ 1.0, 0.8,  0.5, 0.3   , 0.1    ]}\n",
    "\n",
    "noScalePipe = GridSearchCV(pipeline3, tuned_parameters, cv=5, scoring='neg_median_absolute_error')\n",
    "noScalePipe.fit(X_train, y_train)"
   ]
  },
  {
   "cell_type": "code",
   "execution_count": 107,
   "metadata": {
    "scrolled": false
   },
   "outputs": [
    {
     "name": "stdout",
     "output_type": "stream",
     "text": [
      "Best params: {'rgr__learning_rate': 0.1, 'rgr__loss': 'lad', 'rgr__max_depth': 3, 'rgr__max_features': 0.5, 'rgr__min_samples_split': 6, 'rgr__n_estimators': 160} \n",
      "\n",
      "Best score (MAE): 13.702675398151518\n"
     ]
    }
   ],
   "source": [
    "show_best(noScalePipe)"
   ]
  },
  {
   "cell_type": "markdown",
   "metadata": {},
   "source": [
    "Now we instantiate the GBRegressor into a new pipeline so we can extract feature importances from it (scikit-learn deos not allow us to extract feature importances from a gridsearched pipeline). "
   ]
  },
  {
   "cell_type": "code",
   "execution_count": 108,
   "metadata": {},
   "outputs": [
    {
     "data": {
      "text/plain": [
       "Pipeline(steps=[('imp', Imputer(axis=0, copy=True, missing_values='NaN', strategy='mean', verbose=0)), ('rgr', GradientBoostingRegressor(alpha=0.9, criterion='friedman_mse', init=None,\n",
       "             learning_rate=0.05, loss='lad', max_depth=3, max_features=0.5,\n",
       "             max_leaf_nodes=None, min_impurity_s...       presort='auto', random_state=None, subsample=1.0, verbose=0,\n",
       "             warm_start=False))])"
      ]
     },
     "execution_count": 108,
     "metadata": {},
     "output_type": "execute_result"
    }
   ],
   "source": [
    "gbt = GradientBoostingRegressor(alpha=0.9, criterion = 'friedman_mse', init = None,\n",
    "               learning_rate = 0.05, loss = 'lad', max_depth = 3, max_features = .5,\n",
    "               max_leaf_nodes = None,\n",
    "               min_impurity_split = None, min_samples_leaf = 1,\n",
    "               min_samples_split = 6, min_weight_fraction_leaf = 0.0,\n",
    "               n_estimators = 160, presort = 'auto', random_state=None,\n",
    "               subsample = 1.0, verbose = 0, warm_start = False)\n",
    "pipeline = Pipeline([\n",
    "    ('imp', Imputer(missing_values='NaN', strategy = 'mean', axis=0)),\n",
    "    ('rgr', gbt)\n",
    "])\n",
    "pipeline.fit(X_train, y_train)"
   ]
  },
  {
   "cell_type": "code",
   "execution_count": 109,
   "metadata": {},
   "outputs": [
    {
     "data": {
      "text/plain": [
       "<matplotlib.text.Text at 0x14feb724e0>"
      ]
     },
     "execution_count": 109,
     "metadata": {},
     "output_type": "execute_result"
    },
    {
     "data": {
      "image/png": "[encoded data removed]",
      "text/plain": [
       "<matplotlib.figure.Figure at 0x14feb17828>"
      ]
     },
     "metadata": {},
     "output_type": "display_data"
    }
   ],
   "source": [
    "feature_importance = gbt.feature_importances_\n",
    "# make importances relative to max importance\n",
    "feature_importance = 100.0 * (feature_importance / feature_importance.max())\n",
    "sorted_idx = np.argsort(feature_importance)\n",
    "pos = np.arange(sorted_idx.shape[0]) + .5\n",
    "pvals = feature_importance[sorted_idx]\n",
    "pcols = X_train.columns[sorted_idx]\n",
    "plt.figure(figsize=(8,12))\n",
    "plt.barh(pos, pvals, align='center')\n",
    "plt.yticks(pos, pcols)\n",
    "plt.xlabel('Relative Importance')\n",
    "plt.title('Variable Importance')\n",
    "\n",
    "#As expected, person capacity was the most important variable when predicting price"
   ]
  },
  {
   "cell_type": "markdown",
   "metadata": {},
   "source": [
    "<li> We can see that the median absolute error was around $13 with the GBRegressor and the most important feature when it came to predicting price was the number of reviews of a listing. Now let's compare it to linear statistical models below.</li>"
   ]
  },
  {
   "cell_type": "code",
   "execution_count": 110,
   "metadata": {
    "collapsed": true
   },
   "outputs": [],
   "source": [
    "imp = Imputer(missing_values='NaN', strategy = 'median', axis=0)\n",
    "imp.fit(X)\n",
    "X = pd.DataFrame(data=imp.transform(X), columns=X.columns)\n",
    "X_train, X_test, y_train, y_test = train_test_split(X, y, test_size=0.2, random_state=20)\n"
   ]
  },
  {
   "cell_type": "code",
   "execution_count": 111,
   "metadata": {},
   "outputs": [
    {
     "name": "stdout",
     "output_type": "stream",
     "text": [
      "[ 22.43590597  22.2955814   19.09626037  19.42072797  19.69915185\n",
      "  23.7814173   19.81356453  19.62987255  19.09135322  22.43590597]\n"
     ]
    },
    {
     "data": {
      "image/png": "[encoded data removed]",
      "text/plain": [
       "<matplotlib.figure.Figure at 0x14fe73eef0>"
      ]
     },
     "metadata": {},
     "output_type": "display_data"
    }
   ],
   "source": [
    "# get median error values using sklearn. \n",
    "# use matplotlib to graph the calculations\n",
    "from sklearn import linear_model\n",
    "import sklearn.metrics as metrics\n",
    "import matplotlib.pyplot as plt\n",
    "from sklearn import ensemble\n",
    "from sklearn.preprocessing import StandardScaler\n",
    "\n",
    "\n",
    "scaler = StandardScaler()\n",
    "X_train = scaler.fit_transform(X_train)\n",
    "X_test = scaler.transform(X_test)\n",
    "\n",
    "\n",
    "%matplotlib inline\n",
    "\n",
    "rs = 1\n",
    "\n",
    "ests = [ linear_model.LinearRegression(), linear_model.Ridge(),\n",
    "        linear_model.Lasso(), linear_model.ElasticNet(),\n",
    "        linear_model.BayesianRidge(), linear_model.OrthogonalMatchingPursuit(), linear_model.SGDRegressor(),\n",
    "       linear_model.HuberRegressor(), linear_model.PassiveAggressiveRegressor(), linear_model.Lars()]\n",
    "ests_labels = np.array(['Linear Reg. ', 'Ridge Reg.', 'Lasso', 'ElasticNet', 'BayesRidge', 'OMP', 'SGD', \n",
    "                        'Huber', 'PassAggr', 'Lars'])\n",
    "errvals = np.array([])\n",
    "\n",
    "\n",
    "for e in ests:\n",
    "    e.fit(X_train, y_train)\n",
    "    this_err = metrics.median_absolute_error(y_test, e.predict(X_test))\n",
    "    #print \"got error %0.2f\" % this_err\n",
    "    errvals = np.append(errvals, this_err)\n",
    "\n",
    "    \n",
    "pos = np.arange(errvals.shape[0])\n",
    "srt = np.argsort(errvals)\n",
    "plt.figure(figsize=(10,len(ests_labels)))\n",
    "plt.bar(pos, errvals[srt], align='center')\n",
    "plt.xticks(pos, ests_labels[srt])\n",
    "plt.xlabel('Estimator')\n",
    "plt.ylabel('Median Absolute Error')\n",
    "print(errvals)\n",
    "\n",
    "# calculate median error using gradient boosting regression\n"
   ]
  },
  {
   "cell_type": "markdown",
   "metadata": {},
   "source": [
    "<li> The graph above shows that other untuned statistical estimators gave us a median absolute error rate of around 19 to 23 dollars. Gradient boosting achieved ~50% less error compared to traditional statistical models. </li>"
   ]
  },
  {
   "cell_type": "code",
   "execution_count": null,
   "metadata": {
    "collapsed": true
   },
   "outputs": [],
   "source": []
  }
 ],
 "metadata": {
  "anaconda-cloud": {},
  "kernelspec": {
   "display_name": "Python 3",
   "language": "python",
   "name": "python3"
  },
  "language_info": {
   "codemirror_mode": {
    "name": "ipython",
    "version": 3
   },
   "file_extension": ".py",
   "mimetype": "text/x-python",
   "name": "python",
   "nbconvert_exporter": "python",
   "pygments_lexer": "ipython3",
   "version": "3.6.1"
  }
 },
 "nbformat": 4,
 "nbformat_minor": 1
}
